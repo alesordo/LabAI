{
  "nbformat": 4,
  "nbformat_minor": 0,
  "metadata": {
    "colab": {
      "provenance": [],
      "authorship_tag": "ABX9TyOlppBfKAvw0ciMzNOlI8yA",
      "include_colab_link": true
    },
    "kernelspec": {
      "name": "python3",
      "display_name": "Python 3"
    },
    "language_info": {
      "name": "python"
    }
  },
  "cells": [
    {
      "cell_type": "markdown",
      "metadata": {
        "id": "view-in-github",
        "colab_type": "text"
      },
      "source": [
        "<a href=\"https://colab.research.google.com/github/alesordo/LabAI/blob/main/LabAI2_0.ipynb\" target=\"_parent\"><img src=\"https://colab.research.google.com/assets/colab-badge.svg\" alt=\"Open In Colab\"/></a>"
      ]
    },
    {
      "cell_type": "code",
      "source": [
        "#@title Imports\n",
        "# TensorFlow and tf.keras\n",
        "from tensorflow import keras\n",
        "from keras.applications import VGG16\n",
        "from keras.layers import Flatten\n",
        "from keras.layers import Dropout\n",
        "from keras.layers import Dense\n",
        "from keras.layers import Input\n",
        "from keras.models import Model\n",
        "from keras.optimizers import Adam\n",
        "from keras.utils import img_to_array\n",
        "from keras.utils import load_img\n",
        "from keras.utils import to_categorical\n",
        "from sklearn.preprocessing import LabelBinarizer\n",
        "from sklearn.model_selection import train_test_split\n",
        "from imutils import paths\n",
        "\n",
        "# Commonly used modules\n",
        "import statistics\n",
        "import pathlib\n",
        "\n",
        "# Images, plots, display, and visualization\n",
        "import matplotlib\n",
        "import numpy as np\n",
        "import matplotlib.pyplot as plt\n",
        "import pickle\n",
        "import cv2\n",
        "import csv\n",
        "\n",
        "import os"
      ],
      "metadata": {
        "cellView": "form",
        "id": "rIDzU7ksg0vf"
      },
      "execution_count": null,
      "outputs": []
    },
    {
      "cell_type": "code",
      "execution_count": null,
      "metadata": {
        "id": "00t6GtnkgBqN",
        "cellView": "form"
      },
      "outputs": [],
      "source": [
        "#@title Configuration of directories and variables\n",
        "\n",
        "# Mounting images directories\n",
        "BASE_IN = \"/content/drive/MyDrive/GTSRB/Archive\"\n",
        "TRAIN_DIR = os.path.sep.join([BASE_IN, \"Train\"])\n",
        "TEST_DIR = os.path.sep.join([BASE_IN + \"Test\"])\n",
        "PATHS_VAL = os.path.sep.join([BASE_IN + \"ValidationPaths.csv\"])\n",
        "ANNOTATION_TRAIN = os.path.sep.join([BASE_IN, \"Train.csv\"])\n",
        "ANNOTATION_TEST = os.path.sep.join([BASE_IN, \"Test.csv\"])\n",
        "\n",
        "#Mounting output directories\n",
        "BASE_OUT = os.path.sep.join([BASE_IN, \"Output\"])\n",
        "MODEL_PATH = os.path.sep.join([BASE_OUT, \"model.h5\"])\n",
        "LB_PATH = os.path.sep.join([BASE_OUT, \"lb.pickle\"])\n",
        "PLOTS_PATH = os.path.sep.join([BASE_OUT, \"plots\"])\n",
        "\n",
        "# Fixed variables\n",
        "WIDTH = 224\n",
        "HEIGHT = 224\n",
        "N_CLASSES = 43\n",
        "\n",
        "#Deep learning hyperparameters\n",
        "BATCH_SIZE = 32\n",
        "N_CHANNELS = 3\n",
        "INIT_LR = 1e-4\n",
        "NUM_EPOCHS = 20\n"
      ]
    },
    {
      "cell_type": "code",
      "source": [
        "#@title Loading datasets of images, labels, bounding boxes and images paths\n",
        "\n",
        "#Initialize list of images, class label, bounding box coordinates, image paths\n",
        "print(\"Loading datasets...\")\n",
        "data = []\n",
        "labels = []\n",
        "bboxes = []\n",
        "imagePaths = []\n",
        "\n",
        "#Load annotation file\n",
        "with open(ANNOTATION_TRAIN, \"r\") as csvfile:\n",
        "    rows = csv.reader(csvfile)\n",
        "    next(rows)\n",
        "    #Loop rows\n",
        "    for row in rows:\n",
        "        #Obtain each data from the csv\n",
        "        (w, h, startX, startY, endX, endY, label, relativeFilePath) = row\n",
        "\n",
        "        #Reading complete filepaths and images in OpenCV format\n",
        "        imagePath = os.path.sep.join([BASE_IN, relativeFilePath])\n",
        "        image = cv2.imread(imagePath)\n",
        "\n",
        "        # scale the bounding box coordinates relative to the spatial\n",
        "        # dimensions of the input image\n",
        "        startX = float(startX) / float(w)\n",
        "        startY = float(startY) / float(h)\n",
        "        endX = float(endX) / float(w)\n",
        "        endY = float(endY) / float(h)\n",
        "\n",
        "        # load the image and preprocess it\n",
        "        image = load_img(imagePath, target_size=(224, 224))\n",
        "        image = img_to_array(image)\n",
        "\n",
        "        #debug for future\n",
        "        # plt.imshow(image.astype(np.uint8))\n",
        "        # plt.savefig(BASE_IN+\"/img.jpg\")\n",
        "\n",
        "        # update our list of data, class labels, bounding boxes, and\n",
        "        # image paths\n",
        "        data.append(image)\n",
        "        labels.append(label)\n",
        "        bboxes.append((startX, startY, endX, endY))\n",
        "        imagePaths.append(imagePath)"
      ],
      "metadata": {
        "cellView": "form",
        "id": "q3VXzi0PiZ0S"
      },
      "execution_count": null,
      "outputs": []
    },
    {
      "cell_type": "code",
      "source": [
        "#@title Further preprocessing\n",
        "\n",
        "# convert the data, class labels, bounding boxes, and image paths to NumPy arrays, scaling the input pixel from the range [0, 255] to [0, 1]\n",
        "data = np.array(data, dtype=\"float32\") / 255.0\n",
        "labels = np.array(labels)\n",
        "bboxes = np.array(bboxes, dtype=\"float32\")\n",
        "imagePaths = np.array(imagePaths)\n",
        "\n",
        "# perform one-hot encoding on the labels\n",
        "lb = LabelBinarizer()\n",
        "labels = lb.fit_transform(labels)"
      ],
      "metadata": {
        "cellView": "form",
        "id": "JmYL-y53qDwn"
      },
      "execution_count": null,
      "outputs": []
    },
    {
      "cell_type": "code",
      "source": [
        "#@title Partition data into training and validation - EXECUTE ONCE, NOT BECAUSE IT CHANGES FILES, BECAUSE IT SAVES VALIDATION PATHS\n",
        "\n",
        "# partition the data into training and testing splits using 80% of the data for training and the remaining 20% for testing\n",
        "split = train_test_split(data, labels, bboxes, imagePaths,\n",
        "\ttest_size=0.20, random_state=42)\n",
        "\n",
        "# unpack the data split\n",
        "(trainImages, valImages) = split[:2]\n",
        "(trainLabels, valLabels) = split[2:4]\n",
        "(trainBBoxes, valBBoxes) = split[4:6]\n",
        "(trainPaths, valPaths) = split[6:]\n",
        "\n",
        "# write the testing image paths to disk so that we can use then when evaluating/testing our object detector\n",
        "print(\"[INFO] saving testing image paths...\")\n",
        "f = open(PATHS_VAL, \"w\")\n",
        "f.write(\"\\n\".join(valPaths))\n",
        "f.close()"
      ],
      "metadata": {
        "id": "Y2dZOiVQqXjJ",
        "cellView": "form"
      },
      "execution_count": null,
      "outputs": []
    },
    {
      "cell_type": "code",
      "source": [
        "#@title Initialize VGG16\n",
        "\n",
        "# load the VGG16 network, ensuring the head FC layers are left off\n",
        "vgg = VGG16(weights=\"imagenet\", include_top=False,\n",
        "\tinput_tensor=Input(shape=(224, 224, 3)))\n",
        "\n",
        "# freeze all VGG layers so they will *not* be updated during the training process\n",
        "vgg.trainable = False\n",
        "\n",
        "# flatten the max-pooling output of VGG\n",
        "flatten = vgg.output\n",
        "flatten = Flatten()(flatten)"
      ],
      "metadata": {
        "cellView": "form",
        "id": "cC1ECRjl7kKB"
      },
      "execution_count": null,
      "outputs": []
    },
    {
      "cell_type": "code",
      "source": [
        "#@title Constructing layer head with two branches\n",
        "\n",
        "# construct a fully-connected layer header to output the predicted bounding box coordinates\n",
        "bboxHead = Dense(128, activation=\"relu\")(flatten)\n",
        "bboxHead = Dense(64, activation=\"relu\")(bboxHead)\n",
        "bboxHead = Dense(32, activation=\"relu\")(bboxHead)\n",
        "bboxHead = Dense(4, activation=\"sigmoid\",\n",
        "\tname=\"bounding_box\")(bboxHead)\n",
        " \n",
        "# construct a second fully-connected layer head, this one to predict the class label\n",
        "softmaxHead = Dense(512, activation=\"relu\")(flatten)\n",
        "softmaxHead = Dropout(0.5)(softmaxHead)\n",
        "softmaxHead = Dense(512, activation=\"relu\")(softmaxHead)\n",
        "softmaxHead = Dropout(0.5)(softmaxHead)\n",
        "softmaxHead = Dense(len(lb.classes_), activation=\"softmax\",\n",
        "\tname=\"class_label\")(softmaxHead)\n",
        " \n",
        "# put together our model which accept an input image and then output bounding box coordinates and a class label\n",
        "model = Model(\n",
        "\tinputs=vgg.input,\n",
        "\toutputs=(bboxHead, softmaxHead))"
      ],
      "metadata": {
        "cellView": "form",
        "id": "z1YiRZ4774Tr"
      },
      "execution_count": null,
      "outputs": []
    },
    {
      "cell_type": "code",
      "source": [
        "#@title Defining dictionaries for losses and compilation of the model\n",
        "\n",
        "# define a dictionary to set the loss methods -- categorical cross-entropy for the class label head and mean absolute error for the bounding box head\n",
        "losses = {\n",
        "\t\"class_label\": \"categorical_crossentropy\",\n",
        "\t\"bounding_box\": \"mean_squared_error\",\n",
        "}\n",
        "\n",
        "# define a dictionary that specifies the weights per loss (both the class label and bounding box outputs will receive equal weight)\n",
        "lossWeights = {\n",
        "\t\"class_label\": 1.0,\n",
        "\t\"bounding_box\": 1.0\n",
        "}\n",
        "\n",
        "# initialize the optimizer, compile the model, and show the model summary\n",
        "opt = Adam(lr=config.INIT_LR)\n",
        "model.compile(loss=losses, optimizer=opt, metrics=[\"accuracy\"], loss_weights=lossWeights)\n",
        "print(model.summary())"
      ],
      "metadata": {
        "cellView": "form",
        "id": "RyRPlezy8w1_"
      },
      "execution_count": null,
      "outputs": []
    },
    {
      "cell_type": "code",
      "source": [
        "#@title Defining dictionaries that represent training and validation set\n",
        "\n",
        "# construct a dictionary for our target training outputs\n",
        "trainTargets = {\n",
        "\t\"class_label\": trainLabels,\n",
        "\t\"bounding_box\": trainBBoxes\n",
        "}\n",
        "# construct a second dictionary, this one for our target testing\n",
        "# outputs\n",
        "valTargets = {\n",
        "\t\"class_label\": valLabels,\n",
        "\t\"bounding_box\": valBBoxes\n",
        "}"
      ],
      "metadata": {
        "cellView": "form",
        "id": "u7lmtbKT9Ag_"
      },
      "execution_count": null,
      "outputs": []
    },
    {
      "cell_type": "code",
      "source": [
        "#@title Training network\n",
        "\n",
        "# train the network for bounding box regression and class label prediction\n",
        "print(\"[INFO] training model...\")\n",
        "H = model.fit(\n",
        "\ttrainImages, trainTargets,\n",
        "\tvalidation_data=(valImages, valTargets),\n",
        "\tbatch_size=config.BATCH_SIZE,\n",
        "\tepochs=config.NUM_EPOCHS,\n",
        "\tverbose=1)\n",
        "\n",
        "# serialize the model to disk\n",
        "print(\"[INFO] saving object detector model...\")\n",
        "model.save(config.MODEL_PATH, save_format=\"h5\")\n",
        "\n",
        "# serialize the label binarizer to disk\n",
        "print(\"[INFO] saving label binarizer...\")\n",
        "f = open(config.LB_PATH, \"wb\")\n",
        "f.write(pickle.dumps(lb))\n",
        "f.close()"
      ],
      "metadata": {
        "cellView": "form",
        "id": "KRMhVlSJ_IN1"
      },
      "execution_count": null,
      "outputs": []
    }
  ]
}